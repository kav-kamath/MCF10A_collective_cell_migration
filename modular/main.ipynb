{
 "cells": [
  {
   "cell_type": "markdown",
   "id": "d6a9ad7e",
   "metadata": {},
   "source": [
    "1) generate cpm w specified parameters\n",
    "2) run specified step\n",
    "3) create visuals (defined in visuals file)"
   ]
  },
  {
   "cell_type": "code",
   "execution_count": 5,
   "id": "8e967757",
   "metadata": {},
   "outputs": [],
   "source": [
    "# python imports\n",
    "import numpy as np\n",
    "import random\n",
    "\n",
    "# my functions\n",
    "from cpm import *\n",
    "from light import *\n",
    "from gillespie_step import *\n",
    "from monte_carlo_step import *\n",
    "from visuals import *"
   ]
  },
  {
   "cell_type": "code",
   "execution_count": 6,
   "id": "2632fce1",
   "metadata": {},
   "outputs": [
    {
     "ename": "AttributeError",
     "evalue": "'CPM' object has no attribute 'gillespie_step'",
     "output_type": "error",
     "traceback": [
      "\u001b[31m---------------------------------------------------------------------------\u001b[39m",
      "\u001b[31mAttributeError\u001b[39m                            Traceback (most recent call last)",
      "\u001b[36mCell\u001b[39m\u001b[36m \u001b[39m\u001b[32mIn[6]\u001b[39m\u001b[32m, line 9\u001b[39m\n\u001b[32m      5\u001b[39m temperature = \u001b[32m0.5\u001b[39m\n\u001b[32m      7\u001b[39m cpm = CPM(grid_size, num_cells, target_area, target_ratio, temperature, \u001b[33m\"\u001b[39m\u001b[33mideal\u001b[39m\u001b[33m\"\u001b[39m, half_light)\n\u001b[32m----> \u001b[39m\u001b[32m9\u001b[39m frames_for_plot, event_times = gillespie_sim(cpm, max_time=\u001b[32m0.8\u001b[39m)\n\u001b[32m     11\u001b[39m animate_simulation(frames_for_plot, event_times)\n",
      "\u001b[36mFile \u001b[39m\u001b[32mc:\\Users\\Kavya\\thesis_code\\MCF10A_collective_cell_migration\\modular\\gillespie_step.py:79\u001b[39m, in \u001b[36mgillespie_sim\u001b[39m\u001b[34m(cpm, max_time)\u001b[39m\n\u001b[32m     77\u001b[39m \u001b[38;5;28;01mwhile\u001b[39;00m cpm.gill_time < max_time:\n\u001b[32m     78\u001b[39m     prev_time = cpm.gill_time\n\u001b[32m---> \u001b[39m\u001b[32m79\u001b[39m     cpm.gillespie_step()\n\u001b[32m     80\u001b[39m     event_times.append(cpm.gill_time)\n\u001b[32m     81\u001b[39m     \u001b[38;5;66;03m#print(f\"Time: {cpm.gill_time}\")\u001b[39;00m\n",
      "\u001b[31mAttributeError\u001b[39m: 'CPM' object has no attribute 'gillespie_step'"
     ]
    }
   ],
   "source": [
    "grid_size = 21\n",
    "num_cells = 30 #relevant if using initialize_cells_random or initiliaze_cells_voronoi when constructing CPM\n",
    "target_area = 37 #49 #37\n",
    "target_ratio = 0.2534 #0.2917 #0.2534 #sqrt(area)/perimeter\n",
    "temperature = 0.5\n",
    "\n",
    "cpm = CPM(grid_size, num_cells, target_area, target_ratio, temperature, \"ideal\", half_light)\n",
    "\n",
    "frames_for_plot, event_times = gillespie_sim(cpm, max_time=0.8)\n",
    "\n",
    "animate_simulation(frames_for_plot, event_times)"
   ]
  }
 ],
 "metadata": {
  "kernelspec": {
   "display_name": "simu",
   "language": "python",
   "name": "python3"
  },
  "language_info": {
   "codemirror_mode": {
    "name": "ipython",
    "version": 3
   },
   "file_extension": ".py",
   "mimetype": "text/x-python",
   "name": "python",
   "nbconvert_exporter": "python",
   "pygments_lexer": "ipython3",
   "version": "3.13.2"
  }
 },
 "nbformat": 4,
 "nbformat_minor": 5
}
