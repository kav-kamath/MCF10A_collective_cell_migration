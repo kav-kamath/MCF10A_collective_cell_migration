{
 "cells": [
  {
   "cell_type": "markdown",
   "id": "d6a9ad7e",
   "metadata": {},
   "source": [
    "1) generate cpm w specified parameters\n",
    "2) run specified step\n",
    "3) create visuals (defined in visuals file)"
   ]
  },
  {
   "cell_type": "code",
   "execution_count": null,
   "id": "8e967757",
   "metadata": {},
   "outputs": [],
   "source": []
  }
 ],
 "metadata": {
  "language_info": {
   "name": "python"
  }
 },
 "nbformat": 4,
 "nbformat_minor": 5
}
