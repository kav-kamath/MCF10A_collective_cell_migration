{
 "cells": [
  {
   "cell_type": "markdown",
   "id": "d6a9ad7e",
   "metadata": {},
   "source": [
    "1) generate cpm w specified parameters\n",
    "2) run specified step\n",
    "3) create visuals (defined in visuals file)"
   ]
  },
  {
   "cell_type": "code",
   "execution_count": null,
   "id": "8e967757",
   "metadata": {},
   "outputs": [],
   "source": [
    "# python imports\n",
    "import numpy as np\n",
    "import random\n",
    "\n",
    "# my functions\n",
    "from cpm import *\n",
    "from light import *\n",
    "from gillespie_step import *\n",
    "from monte_carlo_step import *\n",
    "from visuals import *"
   ]
  },
  {
   "cell_type": "code",
   "execution_count": null,
   "id": "2632fce1",
   "metadata": {},
   "outputs": [],
   "source": []
  }
 ],
 "metadata": {
  "language_info": {
   "name": "python"
  }
 },
 "nbformat": 4,
 "nbformat_minor": 5
}
