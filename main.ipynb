{
 "cells": [
  {
   "cell_type": "markdown",
   "id": "d6a9ad7e",
   "metadata": {},
   "source": [
    "1) generate cpm w specified parameters\n",
    "2) run specified step\n",
    "3) create visuals (defined in visuals file)"
   ]
  },
  {
   "cell_type": "code",
   "execution_count": 1,
   "id": "8bb9f7b4",
   "metadata": {},
   "outputs": [],
   "source": [
    "%load_ext autoreload\n",
    "%autoreload 2"
   ]
  },
  {
   "cell_type": "code",
   "execution_count": 3,
   "id": "8e967757",
   "metadata": {},
   "outputs": [],
   "source": [
    "# python imports\n",
    "import numpy as np\n",
    "import random\n",
    "\n",
    "# my functions\n",
    "\n",
    "from modular import *"
   ]
  },
  {
   "cell_type": "code",
   "execution_count": 4,
   "id": "2632fce1",
   "metadata": {},
   "outputs": [],
   "source": [
    "grid_size = 21\n",
    "num_cells = 30 #relevant if using initialize_cells_random or initiliaze_cells_voronoi when constructing CPM\n",
    "target_area = 37 #49 #37\n",
    "target_ratio = 0.2534 #0.2917 #0.2534 #sqrt(area)/perimeter\n",
    "temperature = 0.5\n",
    "\n",
    "cpm = CPM(grid_size, num_cells, target_area, target_ratio, temperature, \"ideal\", half_light)\n",
    "\n",
    "#frames_for_plot, event_times = gillespie_sim(cpm, max_time=0.008)\n",
    "frames_for_plot, event_times = mc_sim(cpm, max_time=0.008)\n",
    "\n",
    "animate_simulation(frames_for_plot, event_times)\n"
   ]
  },
  {
   "cell_type": "code",
   "execution_count": null,
   "id": "eb4630bf",
   "metadata": {},
   "outputs": [],
   "source": []
  }
 ],
 "metadata": {
  "kernelspec": {
   "display_name": "simu",
   "language": "python",
   "name": "python3"
  },
  "language_info": {
   "codemirror_mode": {
    "name": "ipython",
    "version": 3
   },
   "file_extension": ".py",
   "mimetype": "text/x-python",
   "name": "python",
   "nbconvert_exporter": "python",
   "pygments_lexer": "ipython3",
   "version": "3.13.2"
  }
 },
 "nbformat": 4,
 "nbformat_minor": 5
}
