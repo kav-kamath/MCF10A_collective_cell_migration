{
 "cells": [
  {
   "cell_type": "markdown",
   "id": "d6a9ad7e",
   "metadata": {},
   "source": [
    "1) generate cpm w specified parameters\n",
    "2) run specified step\n",
    "3) create visuals (defined in visuals file)"
   ]
  },
  {
   "cell_type": "code",
   "execution_count": 1,
   "id": "8bb9f7b4",
   "metadata": {},
   "outputs": [],
   "source": [
    "%load_ext autoreload\n",
    "%autoreload 2"
   ]
  },
  {
   "cell_type": "code",
   "execution_count": 2,
   "id": "8e967757",
   "metadata": {},
   "outputs": [],
   "source": [
    "# python imports\n",
    "import numpy as np\n",
    "import random\n",
    "\n",
    "# my functions\n",
    "\n",
    "from modular import *"
   ]
  },
  {
   "cell_type": "code",
   "execution_count": 3,
   "id": "2632fce1",
   "metadata": {},
   "outputs": [
    {
     "ename": "NameError",
     "evalue": "name 'initialize_cells_random' is not defined",
     "output_type": "error",
     "traceback": [
      "\u001b[31m---------------------------------------------------------------------------\u001b[39m",
      "\u001b[31mNameError\u001b[39m                                 Traceback (most recent call last)",
      "\u001b[36mCell\u001b[39m\u001b[36m \u001b[39m\u001b[32mIn[3]\u001b[39m\u001b[32m, line 10\u001b[39m\n\u001b[32m      6\u001b[39m temperature = \u001b[32m0.07\u001b[39m\n\u001b[32m      8\u001b[39m light_function = light.dynamic_light_function_example\n\u001b[32m---> \u001b[39m\u001b[32m10\u001b[39m cpm = CPM(grid_size, num_cells, target_area, target_perimeter, target_ratio, temperature, \u001b[33m\"\u001b[39m\u001b[33mideal\u001b[39m\u001b[33m\"\u001b[39m, light_function)\n\u001b[32m     12\u001b[39m \u001b[38;5;66;03m#frames_for_plot, event_times = gillespie_sim(cpm, max_time=0.008)\u001b[39;00m\n\u001b[32m     13\u001b[39m frames_for_plot, light_patterns, event_times = mc_sim(cpm, num_steps=\u001b[32m30\u001b[39m)\n",
      "\u001b[36mFile \u001b[39m\u001b[32mc:\\Users\\Kavya\\thesis_code\\MCF10A_collective_cell_migration\\modular\\cpm.py:55\u001b[39m, in \u001b[36mCPM.__init__\u001b[39m\u001b[34m(self, grid_size, num_cells, target_area, target_perimeter, target_ratio, temperature, initialization, light_function, light_pattern)\u001b[39m\n\u001b[32m     51\u001b[39m \u001b[38;5;28;01melse\u001b[39;00m:\n\u001b[32m     52\u001b[39m     \u001b[38;5;28mself\u001b[39m.light_pattern = np.zeros((grid_size, grid_size), dtype=\u001b[38;5;28mint\u001b[39m)  \u001b[38;5;66;03m# default: all dark\u001b[39;00m\n\u001b[32m     54\u001b[39m init_methods = {\n\u001b[32m---> \u001b[39m\u001b[32m55\u001b[39m     \u001b[33m\"\u001b[39m\u001b[33mrandom\u001b[39m\u001b[33m\"\u001b[39m: initialize_cells_random,\n\u001b[32m     56\u001b[39m     \u001b[33m\"\u001b[39m\u001b[33mideal\u001b[39m\u001b[33m\"\u001b[39m: initialize_cells_ideal,\n\u001b[32m     57\u001b[39m     \u001b[33m\"\u001b[39m\u001b[33mspace_filling\u001b[39m\u001b[33m\"\u001b[39m: initialize_cells_space_filling,\n\u001b[32m     58\u001b[39m     \u001b[33m\"\u001b[39m\u001b[33mvoronoi\u001b[39m\u001b[33m\"\u001b[39m: initialize_cells_voronoi,\n\u001b[32m     59\u001b[39m     \u001b[33m\"\u001b[39m\u001b[33mcustom1\u001b[39m\u001b[33m\"\u001b[39m: initialize_cells_custom1,\n\u001b[32m     60\u001b[39m     \u001b[33m\"\u001b[39m\u001b[33mcustom2\u001b[39m\u001b[33m\"\u001b[39m: initialize_cells_custom2\n\u001b[32m     61\u001b[39m }\n\u001b[32m     63\u001b[39m \u001b[38;5;28;01mif\u001b[39;00m initialization \u001b[38;5;129;01min\u001b[39;00m init_methods:\n\u001b[32m     64\u001b[39m     init_methods[initialization](\u001b[38;5;28mself\u001b[39m)\n",
      "\u001b[31mNameError\u001b[39m: name 'initialize_cells_random' is not defined"
     ]
    }
   ],
   "source": [
    "grid_size = 21\n",
    "num_cells = 30 #relevant if using initialize_cells_random or initiliaze_cells_voronoi when constructing CPM\n",
    "target_area = 37 #49 #37\n",
    "target_perimeter = 0.00\n",
    "target_ratio = 0.2534 #0.2917 #0.2534 #sqrt(area)/perimeter\n",
    "temperature = 0.07\n",
    "\n",
    "light_function = light.dynamic_light_function_example\n",
    "\n",
    "cpm = CPM(grid_size, num_cells, target_area, target_perimeter, target_ratio, temperature, \"ideal\", light_function)\n",
    "\n",
    "#frames_for_plot, event_times = gillespie_sim(cpm, max_time=0.008)\n",
    "frames_for_plot, light_patterns, event_times = mc_sim(cpm, num_steps=30)\n",
    "\n",
    "animate_simulation(frames_for_plot, event_times)\n",
    "#light_patterns = [lp.astype(int) for lp in light_patterns]\n",
    "visualize_dynamic_light_pattern(light_patterns, event_times)\n"
   ]
  },
  {
   "cell_type": "code",
   "execution_count": null,
   "id": "eb4630bf",
   "metadata": {},
   "outputs": [],
   "source": [
    "animate_simulation(frames_for_plot, event_times)\n",
    "#light_patterns = [lp.astype(int) for lp in light_patterns]\n",
    "visualize_dynamic_light_pattern(light_patterns, event_times)"
   ]
  }
 ],
 "metadata": {
  "kernelspec": {
   "display_name": "simu",
   "language": "python",
   "name": "python3"
  },
  "language_info": {
   "codemirror_mode": {
    "name": "ipython",
    "version": 3
   },
   "file_extension": ".py",
   "mimetype": "text/x-python",
   "name": "python",
   "nbconvert_exporter": "python",
   "pygments_lexer": "ipython3",
   "version": "3.13.2"
  }
 },
 "nbformat": 4,
 "nbformat_minor": 5
}
