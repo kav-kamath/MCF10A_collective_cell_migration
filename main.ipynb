{
 "cells": [
  {
   "cell_type": "markdown",
   "id": "d6a9ad7e",
   "metadata": {},
   "source": [
    "1) generate cpm w specified parameters\n",
    "2) run specified step\n",
    "3) create visuals (defined in visuals file)"
   ]
  },
  {
   "cell_type": "code",
   "execution_count": 2,
   "id": "8bb9f7b4",
   "metadata": {},
   "outputs": [],
   "source": [
    "%load_ext autoreload\n",
    "%autoreload 2"
   ]
  },
  {
   "cell_type": "code",
   "execution_count": 3,
   "id": "8e967757",
   "metadata": {},
   "outputs": [],
   "source": [
    "# python imports\n",
    "import numpy as np\n",
    "import random\n",
    "import os\n",
    "\n",
    "# my functions\n",
    "\n",
    "from modular import *"
   ]
  },
  {
   "cell_type": "code",
   "execution_count": 6,
   "id": "2632fce1",
   "metadata": {},
   "outputs": [
    {
     "name": "stderr",
     "output_type": "stream",
     "text": [
      "Monte Carlo Simulation:  83%|████████▎ | 83/100 [04:21<00:53,  3.15s/it]\n"
     ]
    },
    {
     "ename": "KeyboardInterrupt",
     "evalue": "",
     "output_type": "error",
     "traceback": [
      "\u001b[31m---------------------------------------------------------------------------\u001b[39m",
      "\u001b[31mKeyboardInterrupt\u001b[39m                         Traceback (most recent call last)",
      "\u001b[36mCell\u001b[39m\u001b[36m \u001b[39m\u001b[32mIn[6]\u001b[39m\u001b[32m, line 15\u001b[39m\n\u001b[32m     12\u001b[39m cpm = CPM(grid_size, num_cells, target_area, target_perimeter, target_ratio, temperature, \u001b[33m\"\u001b[39m\u001b[33mideal\u001b[39m\u001b[33m\"\u001b[39m, light_function)\n\u001b[32m     14\u001b[39m \u001b[38;5;66;03m#frames_for_plot, event_times = gillespie_sim(cpm, max_time=0.008)\u001b[39;00m\n\u001b[32m---> \u001b[39m\u001b[32m15\u001b[39m frames_for_plot, light_patterns, event_times = mc_sim(cpm, num_steps=\u001b[32m100\u001b[39m)\n\u001b[32m     17\u001b[39m \u001b[38;5;66;03m#output_path = os.path.join(output_folder, f\"calc_simulation.mp4\")\u001b[39;00m\n\u001b[32m     18\u001b[39m animate_simulation(frames_for_plot, event_times, output_filename=\u001b[33m\"\u001b[39m\u001b[33mcurrent_simulation.mp4\u001b[39m\u001b[33m\"\u001b[39m)\n",
      "\u001b[36mFile \u001b[39m\u001b[32mc:\\Users\\Kavya\\thesis_code\\MCF10A_collective_cell_migration\\modular\\monte_carlo_step.py:113\u001b[39m, in \u001b[36mmc_sim\u001b[39m\u001b[34m(cpm, num_steps)\u001b[39m\n\u001b[32m    110\u001b[39m \u001b[38;5;66;03m#while cpm.mc_step <= num_steps:\u001b[39;00m\n\u001b[32m    111\u001b[39m \u001b[38;5;28;01mfor\u001b[39;00m _ \u001b[38;5;129;01min\u001b[39;00m tqdm(\u001b[38;5;28mrange\u001b[39m(cpm.mc_step, num_steps), desc=\u001b[33m\"\u001b[39m\u001b[33mMonte Carlo Simulation\u001b[39m\u001b[33m\"\u001b[39m):\n\u001b[32m    112\u001b[39m     \u001b[38;5;66;03m#prev_time = cpm.mc_step\u001b[39;00m\n\u001b[32m--> \u001b[39m\u001b[32m113\u001b[39m     monte_carlo_step(cpm)\n\u001b[32m    114\u001b[39m     event_times.append(cpm.mc_step)\n\u001b[32m    115\u001b[39m     \u001b[38;5;66;03m#print(f\"Time: {cpm.mc_step}\")\u001b[39;00m\n",
      "\u001b[36mFile \u001b[39m\u001b[32mc:\\Users\\Kavya\\thesis_code\\MCF10A_collective_cell_migration\\modular\\monte_carlo_step.py:39\u001b[39m, in \u001b[36mmonte_carlo_step\u001b[39m\u001b[34m(cpm)\u001b[39m\n\u001b[32m     37\u001b[39m old_j_value = cpm.grid[j_y, j_x]\n\u001b[32m     38\u001b[39m cpm.grid[j_y, j_x] = cpm.grid[i_y, i_x]\n\u001b[32m---> \u001b[39m\u001b[32m39\u001b[39m new_hamiltonian = hams.calculate_hamiltonian(cpm)\n\u001b[32m     40\u001b[39m \u001b[38;5;66;03m#print(\"new: \", new_hamiltonian)\u001b[39;00m\n\u001b[32m     41\u001b[39m \n\u001b[32m     42\u001b[39m \u001b[38;5;66;03m# deltaH\u001b[39;00m\n\u001b[32m     43\u001b[39m delta_hamiltonian = new_hamiltonian - current_hamiltonian\n",
      "\u001b[36mFile \u001b[39m\u001b[32mc:\\Users\\Kavya\\thesis_code\\MCF10A_collective_cell_migration\\modular\\hams.py:97\u001b[39m, in \u001b[36mcalculate_hamiltonian\u001b[39m\u001b[34m(cpm)\u001b[39m\n\u001b[32m     94\u001b[39m     \u001b[38;5;28;01mreturn\u001b[39;00m np.inf  \u001b[38;5;66;03m# positive infinity for disjoint parts\u001b[39;00m\n\u001b[32m     96\u001b[39m \u001b[38;5;66;03m#deltaH_ground: check for holes\u001b[39;00m\n\u001b[32m---> \u001b[39m\u001b[32m97\u001b[39m \u001b[38;5;28;01mif\u001b[39;00m _cell_contains_holes(cpm, cell_id):\n\u001b[32m     98\u001b[39m     \u001b[38;5;28;01mreturn\u001b[39;00m np.inf\n\u001b[32m    100\u001b[39m \u001b[38;5;66;03m# calc area & perimeter\u001b[39;00m\n",
      "\u001b[36mFile \u001b[39m\u001b[32mc:\\Users\\Kavya\\thesis_code\\MCF10A_collective_cell_migration\\modular\\hams.py:47\u001b[39m, in \u001b[36m_cell_contains_holes\u001b[39m\u001b[34m(cpm, cell_id)\u001b[39m\n\u001b[32m     44\u001b[39m cell_mask = (cpm.grid == cell_id).astype(np.uint8)  \u001b[38;5;66;03m# binary mask for the cell\u001b[39;00m\n\u001b[32m     46\u001b[39m \u001b[38;5;66;03m# check that the cell has only one connected component\u001b[39;00m\n\u001b[32m---> \u001b[39m\u001b[32m47\u001b[39m labeled_array, num_features = label(cell_mask) \u001b[38;5;66;03m# possibly: intepreter misreading the type of self.grid, totally fine at runtime\u001b[39;00m\n\u001b[32m     48\u001b[39m \u001b[38;5;28;01massert\u001b[39;00m num_features == \u001b[32m1\u001b[39m, \u001b[33mf\u001b[39m\u001b[33m\"\u001b[39m\u001b[33mExpected exactly 1 connnected component, found \u001b[39m\u001b[38;5;132;01m{\u001b[39;00mnum_features\u001b[38;5;132;01m}\u001b[39;00m\u001b[33m\"\u001b[39m\n\u001b[32m     50\u001b[39m \u001b[38;5;66;03m# get region properties (of interest: euler number)\u001b[39;00m\n",
      "\u001b[36mFile \u001b[39m\u001b[32mc:\\Users\\Kavya\\miniforge3\\envs\\simu\\Lib\\site-packages\\scipy\\ndimage\\_measurements.py:218\u001b[39m, in \u001b[36mlabel\u001b[39m\u001b[34m(input, structure, output)\u001b[39m\n\u001b[32m    215\u001b[39m         \u001b[38;5;28;01mreturn\u001b[39;00m output, maxlabel\n\u001b[32m    217\u001b[39m \u001b[38;5;28;01mtry\u001b[39;00m:\n\u001b[32m--> \u001b[39m\u001b[32m218\u001b[39m     max_label = _ni_label._label(\u001b[38;5;28minput\u001b[39m, structure, output)\n\u001b[32m    219\u001b[39m \u001b[38;5;28;01mexcept\u001b[39;00m _ni_label.NeedMoreBits \u001b[38;5;28;01mas\u001b[39;00m e:\n\u001b[32m    220\u001b[39m     \u001b[38;5;66;03m# Make another attempt with enough bits, then try to cast to the\u001b[39;00m\n\u001b[32m    221\u001b[39m     \u001b[38;5;66;03m# new type.\u001b[39;00m\n\u001b[32m    222\u001b[39m     tmp_output = np.empty(\u001b[38;5;28minput\u001b[39m.shape, np.intp \u001b[38;5;28;01mif\u001b[39;00m need_64bits \u001b[38;5;28;01melse\u001b[39;00m np.int32)\n",
      "\u001b[36mFile \u001b[39m\u001b[32m_ni_label.pyx:200\u001b[39m, in \u001b[36m_ni_label._label\u001b[39m\u001b[34m()\u001b[39m\n",
      "\u001b[36mFile \u001b[39m\u001b[32m_ni_label.pyx:241\u001b[39m, in \u001b[36m_ni_label._label\u001b[39m\u001b[34m()\u001b[39m\n",
      "\u001b[31mKeyboardInterrupt\u001b[39m: "
     ]
    }
   ],
   "source": [
    "grid_size = 28\n",
    "num_cells = 5 #relevant if using initialize_cells_random or initiliaze_cells_voronoi when constructing CPM\n",
    "target_area = 37 #49 #37\n",
    "target_perimeter = 20.992 #20.992 #0.00\n",
    "target_ratio = 0.2534 #0.2917 #0.2534 #sqrt(area)/perimeter\n",
    "temperature = 3\n",
    "\n",
    "light_function = light.multiple_moving_bars_light\n",
    "\n",
    "#output_folder = \"trials_2cell_perim0_no_light\"\n",
    "\n",
    "cpm = CPM(grid_size, num_cells, target_area, target_perimeter, target_ratio, temperature, \"ideal\", light_function)\n",
    "\n",
    "#frames_for_plot, event_times = gillespie_sim(cpm, max_time=0.008)\n",
    "frames_for_plot, light_patterns, event_times = mc_sim(cpm, num_steps=100)\n",
    "\n",
    "#output_path = os.path.join(output_folder, f\"calc_simulation.mp4\")\n",
    "animate_simulation(frames_for_plot, event_times, output_filename=\"current_simulation.mp4\")\n",
    "\n",
    "#animate_simulation(frames_for_plot, event_times, output_filename = f\"trial{i}_2cell_perim0_no_light.mp4\")\n",
    "#light_patterns = [lp.astype(int) for lp in light_patterns]\n",
    "visualize_dynamic_light_pattern(light_patterns, event_times)\n"
   ]
  },
  {
   "cell_type": "code",
   "execution_count": null,
   "id": "b75b688d",
   "metadata": {},
   "outputs": [
    {
     "name": "stderr",
     "output_type": "stream",
     "text": [
      "Monte Carlo Simulation: 100%|██████████| 100/100 [00:18<00:00,  5.27it/s]\n"
     ]
    }
   ],
   "source": [
    "grid_size = 42\n",
    "num_cells = 5 #relevant if using initialize_cells_random or initiliaze_cells_voronoi when constructing CPM\n",
    "target_area = 37 #49 #37\n",
    "target_perimeter = 20.992 #20.992 #0.00\n",
    "target_ratio = 0.2534 #0.2917 #0.2534 #sqrt(area)/perimeter\n",
    "temperature = 3\n",
    "\n",
    "light_function = light.multiple_moving_bars_light\n",
    "\n",
    "#output_folder = \"trials_2cell_perim0_no_light\"\n",
    "\n",
    "cpm = CPM(grid_size, num_cells, target_area, target_perimeter, target_ratio, temperature, \"random\", light_function)\n",
    "\n",
    "#frames_for_plot, event_times = gillespie_sim(cpm, max_time=0.008)\n",
    "frames_for_plot, light_patterns, event_times = mc_sim(cpm, num_steps=100)\n",
    "\n",
    "#output_path = os.path.join(output_folder, f\"calc_simulation.mp4\")\n",
    "animate_simulation(frames_for_plot, event_times, output_filename=\"current_simulation.mp4\")\n",
    "\n",
    "#animate_simulation(frames_for_plot, event_times, output_filename = f\"trial{i}_2cell_perim0_no_light.mp4\")\n",
    "#light_patterns = [lp.astype(int) for lp in light_patterns]\n",
    "visualize_dynamic_light_pattern(light_patterns, event_times)\n"
   ]
  },
  {
   "cell_type": "code",
   "execution_count": null,
   "id": "eb4630bf",
   "metadata": {},
   "outputs": [],
   "source": [
    "animate_simulation(frames_for_plot, event_times)\n",
    "#light_patterns = [lp.astype(int) for lp in light_patterns]\n",
    "visualize_dynamic_light_pattern(light_patterns, event_times)"
   ]
  }
 ],
 "metadata": {
  "kernelspec": {
   "display_name": "simu",
   "language": "python",
   "name": "python3"
  },
  "language_info": {
   "codemirror_mode": {
    "name": "ipython",
    "version": 3
   },
   "file_extension": ".py",
   "mimetype": "text/x-python",
   "name": "python",
   "nbconvert_exporter": "python",
   "pygments_lexer": "ipython3",
   "version": "3.13.2"
  }
 },
 "nbformat": 4,
 "nbformat_minor": 5
}
