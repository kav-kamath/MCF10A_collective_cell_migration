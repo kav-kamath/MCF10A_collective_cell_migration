{
 "cells": [
  {
   "cell_type": "markdown",
   "id": "d6a9ad7e",
   "metadata": {},
   "source": [
    "1) generate cpm w specified parameters\n",
    "2) run specified step\n",
    "3) create visuals (defined in visuals file)"
   ]
  },
  {
   "cell_type": "code",
   "execution_count": null,
   "id": "8bb9f7b4",
   "metadata": {},
   "outputs": [
    {
     "name": "stdout",
     "output_type": "stream",
     "text": [
      "The autoreload extension is already loaded. To reload it, use:\n",
      "  %reload_ext autoreload\n"
     ]
    },
    {
     "data": {
      "text/plain": [
       "<module 'modular.hams' from 'c:\\\\Users\\\\Kavya\\\\thesis_code\\\\MCF10A_collective_cell_migration\\\\modular\\\\hams.py'>"
      ]
     },
     "execution_count": 23,
     "metadata": {},
     "output_type": "execute_result"
    }
   ],
   "source": [
    "%load_ext autoreload\n",
    "%autoreload 2"
   ]
  },
  {
   "cell_type": "code",
   "execution_count": 24,
   "id": "8e967757",
   "metadata": {},
   "outputs": [],
   "source": [
    "# python imports\n",
    "import numpy as np\n",
    "import random\n",
    "\n",
    "# my functions\n",
    "\n",
    "from modular import *"
   ]
  },
  {
   "cell_type": "code",
   "execution_count": null,
   "id": "2632fce1",
   "metadata": {},
   "outputs": [
    {
     "name": "stdout",
     "output_type": "stream",
     "text": [
      "Time: 1\n",
      "Time: 2\n",
      "Time: 3\n",
      "Time: 4\n",
      "Time: 5\n",
      "Time: 6\n"
     ]
    }
   ],
   "source": [
    "grid_size = 21\n",
    "num_cells = 30 #relevant if using initialize_cells_random or initiliaze_cells_voronoi when constructing CPM\n",
    "target_area = 37 #49 #37\n",
    "target_ratio = 0.2534 #0.2917 #0.2534 #sqrt(area)/perimeter\n",
    "temperature = 0.1\n",
    "\n",
    "cpm = CPM(grid_size, num_cells, target_area, target_ratio, temperature, \"ideal\", half_light)\n",
    "\n",
    "#frames_for_plot, event_times = gillespie_sim(cpm, max_time=0.008)\n",
    "frames_for_plot, event_times = mc_sim(cpm, num_steps=6)\n",
    "\n",
    "animate_simulation(frames_for_plot, event_times)\n"
   ]
  },
  {
   "cell_type": "code",
   "execution_count": null,
   "id": "eb4630bf",
   "metadata": {},
   "outputs": [],
   "source": []
  }
 ],
 "metadata": {
  "kernelspec": {
   "display_name": "simu",
   "language": "python",
   "name": "python3"
  },
  "language_info": {
   "codemirror_mode": {
    "name": "ipython",
    "version": 3
   },
   "file_extension": ".py",
   "mimetype": "text/x-python",
   "name": "python",
   "nbconvert_exporter": "python",
   "pygments_lexer": "ipython3",
   "version": "3.13.2"
  }
 },
 "nbformat": 4,
 "nbformat_minor": 5
}
