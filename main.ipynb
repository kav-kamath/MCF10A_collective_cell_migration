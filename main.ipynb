{
 "cells": [
  {
   "cell_type": "markdown",
   "id": "d6a9ad7e",
   "metadata": {},
   "source": [
    "1) generate cpm w specified parameters\n",
    "2) run specified step\n",
    "3) create visuals (defined in visuals file)"
   ]
  },
  {
   "cell_type": "code",
   "execution_count": 13,
   "id": "8bb9f7b4",
   "metadata": {},
   "outputs": [
    {
     "name": "stdout",
     "output_type": "stream",
     "text": [
      "The autoreload extension is already loaded. To reload it, use:\n",
      "  %reload_ext autoreload\n"
     ]
    }
   ],
   "source": [
    "%load_ext autoreload\n",
    "%autoreload 2"
   ]
  },
  {
   "cell_type": "code",
   "execution_count": 14,
   "id": "8e967757",
   "metadata": {},
   "outputs": [],
   "source": [
    "# python imports\n",
    "import numpy as np\n",
    "import random\n",
    "import os\n",
    "\n",
    "# my functions\n",
    "\n",
    "from modular import *"
   ]
  },
  {
   "cell_type": "code",
   "execution_count": 25,
   "id": "2632fce1",
   "metadata": {},
   "outputs": [
    {
     "name": "stderr",
     "output_type": "stream",
     "text": [
      "Monte Carlo Simulation:   0%|          | 0/100 [00:00<?, ?it/s]"
     ]
    },
    {
     "name": "stderr",
     "output_type": "stream",
     "text": [
      "Monte Carlo Simulation: 100%|██████████| 100/100 [07:16<00:00,  4.37s/it]\n"
     ]
    }
   ],
   "source": [
    "grid_size = 28\n",
    "num_cells = 5 #relevant if using initialize_cells_random or initiliaze_cells_voronoi when constructing CPM\n",
    "target_area = 37 #49 #37\n",
    "target_perimeter = 20.992 #20.992 #0.00\n",
    "target_ratio = 0.2534 #0.2917 #0.2534 #sqrt(area)/perimeter\n",
    "temperature = 3\n",
    "\n",
    "light_function = light.multiple_moving_bars_light\n",
    "\n",
    "#output_folder = \"trials_2cell_perim0_no_light\"\n",
    "\n",
    "cpm = CPM(grid_size, num_cells, target_area, target_perimeter, target_ratio, temperature, \"ideal\", light_function)\n",
    "\n",
    "#frames_for_plot, event_times = gillespie_sim(cpm, max_time=0.008)\n",
    "frames_for_plot, light_patterns, event_times = mc_sim(cpm, num_steps=100)\n",
    "\n",
    "#output_path = os.path.join(output_folder, f\"calc_simulation.mp4\")\n",
    "animate_simulation(frames_for_plot, event_times, output_filename=\"current_simulation.mp4\")\n",
    "\n",
    "#animate_simulation(frames_for_plot, event_times, output_filename = f\"trial{i}_2cell_perim0_no_light.mp4\")\n",
    "#light_patterns = [lp.astype(int) for lp in light_patterns]\n",
    "visualize_dynamic_light_pattern(light_patterns, event_times)\n"
   ]
  },
  {
   "cell_type": "code",
   "execution_count": 30,
   "id": "b75b688d",
   "metadata": {},
   "outputs": [
    {
     "name": "stderr",
     "output_type": "stream",
     "text": [
      "Monte Carlo Simulation: 100%|██████████| 100/100 [00:18<00:00,  5.27it/s]\n"
     ]
    }
   ],
   "source": [
    "grid_size = 42\n",
    "num_cells = 5 #relevant if using initialize_cells_random or initiliaze_cells_voronoi when constructing CPM\n",
    "target_area = 37 #49 #37\n",
    "target_perimeter = 20.992 #20.992 #0.00\n",
    "target_ratio = 0.2534 #0.2917 #0.2534 #sqrt(area)/perimeter\n",
    "temperature = 3\n",
    "\n",
    "light_function = light.multiple_moving_bars_light\n",
    "\n",
    "#output_folder = \"trials_2cell_perim0_no_light\"\n",
    "\n",
    "cpm = CPM(grid_size, num_cells, target_area, target_perimeter, target_ratio, temperature, \"random\", light_function)\n",
    "\n",
    "#frames_for_plot, event_times = gillespie_sim(cpm, max_time=0.008)\n",
    "frames_for_plot, light_patterns, event_times = mc_sim(cpm, num_steps=100)\n",
    "\n",
    "#output_path = os.path.join(output_folder, f\"calc_simulation.mp4\")\n",
    "animate_simulation(frames_for_plot, event_times, output_filename=\"current_simulation.mp4\")\n",
    "\n",
    "#animate_simulation(frames_for_plot, event_times, output_filename = f\"trial{i}_2cell_perim0_no_light.mp4\")\n",
    "#light_patterns = [lp.astype(int) for lp in light_patterns]\n",
    "visualize_dynamic_light_pattern(light_patterns, event_times)\n"
   ]
  },
  {
   "cell_type": "code",
   "execution_count": null,
   "id": "eb4630bf",
   "metadata": {},
   "outputs": [],
   "source": [
    "animate_simulation(frames_for_plot, event_times)\n",
    "#light_patterns = [lp.astype(int) for lp in light_patterns]\n",
    "visualize_dynamic_light_pattern(light_patterns, event_times)"
   ]
  }
 ],
 "metadata": {
  "kernelspec": {
   "display_name": "simu",
   "language": "python",
   "name": "python3"
  },
  "language_info": {
   "codemirror_mode": {
    "name": "ipython",
    "version": 3
   },
   "file_extension": ".py",
   "mimetype": "text/x-python",
   "name": "python",
   "nbconvert_exporter": "python",
   "pygments_lexer": "ipython3",
   "version": "3.13.2"
  }
 },
 "nbformat": 4,
 "nbformat_minor": 5
}
